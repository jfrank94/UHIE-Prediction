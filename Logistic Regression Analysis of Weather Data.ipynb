{
 "cells": [
  {
   "cell_type": "code",
   "execution_count": 232,
   "metadata": {},
   "outputs": [],
   "source": [
    "import pandas as pd\n",
    "import numpy as np\n",
    "import seaborn as sns\n",
    "import matplotlib.pyplot as plt\n",
    "from sklearn.model_selection import train_test_split\n",
    "from sklearn.linear_model import LogisticRegression\n",
    "from sklearn import preprocessing\n",
    "from sklearn import metrics"
   ]
  },
  {
   "cell_type": "code",
   "execution_count": 243,
   "metadata": {},
   "outputs": [],
   "source": [
    "ds_path = '/Users/jfrank/dl-journey/sharpestminds-proj/datasets/'\n",
    "data_2013 = pd.read_csv(ds_path + '2013.csv')\n",
    "data_2014 = pd.read_csv(ds_path + '2014.csv')\n",
    "data_2015 = pd.read_csv(ds_path + '2015.csv')\n",
    "data_2016 = pd.read_csv(ds_path + '2016.csv')\n",
    "data_2017 = pd.read_csv(ds_path + '2017.csv')\n",
    "data_2018 = pd.read_csv(ds_path + '2018.csv')"
   ]
  },
  {
   "cell_type": "code",
   "execution_count": 217,
   "metadata": {},
   "outputs": [],
   "source": [
    "def fix_columns(df1, df2):\n",
    "    for name1, name2 in zip(df1['NAME'], df2['NAME']):\n",
    "        if name1 == name2:\n",
    "            df2['LATITUDE'] = df1['LATITUDE']\n",
    "            df2['LONGITUDE'] = df1['LONGITUDE']\n",
    "    return df2 \n",
    "\n",
    "data_2014 = fix_columns(data_2013, data_2014)"
   ]
  },
  {
   "cell_type": "code",
   "execution_count": 218,
   "metadata": {},
   "outputs": [],
   "source": [
    "col_list = ['NAME', 'LATITUDE', 'LONGITUDE', 'DATE', 'TAVG', 'TMAX', 'TMIN']\n",
    "data_2013 = data_2013[col_list]\n",
    "data_2014 = data_2014[col_list]\n",
    "data_2015 = data_2015[col_list]\n",
    "data_2016 = data_2016[col_list]\n",
    "data_2017 = data_2017[col_list]\n",
    "data_2018 = data_2018[col_list]"
   ]
  },
  {
   "cell_type": "code",
   "execution_count": 241,
   "metadata": {},
   "outputs": [
    {
     "name": "stderr",
     "output_type": "stream",
     "text": [
      "/usr/local/lib/python3.7/site-packages/ipykernel_launcher.py:2: FutureWarning: Sorting because non-concatenation axis is not aligned. A future version\n",
      "of pandas will change to not sort by default.\n",
      "\n",
      "To accept the future behavior, pass 'sort=False'.\n",
      "\n",
      "To retain the current behavior and silence the warning, pass 'sort=True'.\n",
      "\n",
      "  \n"
     ]
    }
   ],
   "source": [
    "df_list = [data_2013, data_2014, data_2015, data_2016, data_2017, data_2018]\n",
    "df_six_yrs = pd.concat(df_list)\n",
    "df_six_yrs = df_six_yrs.fillna(0)"
   ]
  },
  {
   "cell_type": "code",
   "execution_count": 242,
   "metadata": {},
   "outputs": [
    {
     "data": {
      "text/plain": [
       "{'NY CITY CENTRAL PARK, NY US': 0,\n",
       " 'JFK INTERNATIONAL AIRPORT, NY US': 1,\n",
       " 'BROOKLYN 3.1 NW, NY US': 2,\n",
       " 'NEW YORK 8.8 N, NY US': 3}"
      ]
     },
     "execution_count": 242,
     "metadata": {},
     "output_type": "execute_result"
    }
   ],
   "source": [
    "map_to_values = {place:i for i, place in enumerate(df_six_yrs['NAME'].unique())}\n",
    "df_six_yrs['LOCATION'] = df_six_yrs['NAME'].map(map_to_values)\n",
    "map_to_values"
   ]
  },
  {
   "cell_type": "code",
   "execution_count": 235,
   "metadata": {},
   "outputs": [],
   "source": [
    "df_six_yrs['TAVG'] = (df_six_yrs['TMAX'] + df_six_yrs['TMIN'])/2\n",
    "df_six_yrs_x = df_six_yrs['TAVG'].values.reshape(-1, 1)\n",
    "df_target_y = df_six_yrs['LOCATION'].values.reshape(-1, 1)"
   ]
  },
  {
   "cell_type": "code",
   "execution_count": 236,
   "metadata": {},
   "outputs": [],
   "source": [
    "X_train, X_test, y_train, y_test = train_test_split(df_six_yrs_x, df_target_y, test_size=0.25, random_state=0)"
   ]
  },
  {
   "cell_type": "code",
   "execution_count": 237,
   "metadata": {},
   "outputs": [
    {
     "name": "stderr",
     "output_type": "stream",
     "text": [
      "/usr/local/lib/python3.7/site-packages/sklearn/preprocessing/label.py:235: DataConversionWarning: A column-vector y was passed when a 1d array was expected. Please change the shape of y to (n_samples, ), for example using ravel().\n",
      "  y = column_or_1d(y, warn=True)\n",
      "/usr/local/lib/python3.7/site-packages/sklearn/linear_model/logistic.py:432: FutureWarning: Default solver will be changed to 'lbfgs' in 0.22. Specify a solver to silence this warning.\n",
      "  FutureWarning)\n",
      "/usr/local/lib/python3.7/site-packages/sklearn/linear_model/logistic.py:469: FutureWarning: Default multi_class will be changed to 'auto' in 0.22. Specify the multi_class option to silence this warning.\n",
      "  \"this warning.\", FutureWarning)\n"
     ]
    }
   ],
   "source": [
    "log_reg = LogisticRegression()\n",
    "label_enc = preprocessing.LabelEncoder()\n",
    "y_train_encoded = label_enc.fit_transform(y_train)\n",
    "y_test_encoded = label_enc.fit_transform(y_test)\n",
    "model = log_reg.fit(X_train, y_train_encoded)\n",
    "predictions = log_reg.predict(X_test)"
   ]
  },
  {
   "cell_type": "code",
   "execution_count": 238,
   "metadata": {},
   "outputs": [],
   "source": [
    "accuracy_score = log_reg.score(X_test, y_test_encoded)"
   ]
  },
  {
   "cell_type": "code",
   "execution_count": 239,
   "metadata": {},
   "outputs": [],
   "source": [
    "conf_matrix = metrics.confusion_matrix(y_test_encoded, predictions)"
   ]
  },
  {
   "cell_type": "code",
   "execution_count": 244,
   "metadata": {},
   "outputs": [
    {
     "data": {
      "text/plain": [
       "Text(0.5, 1.0, 'Accuracy Score: 0.6014598540145986')"
      ]
     },
     "execution_count": 244,
     "metadata": {},
     "output_type": "execute_result"
    },
    {
     "data": {
      "image/png": "[encoded data removed]",
      "text/plain": [
       "<Figure size 648x648 with 2 Axes>"
      ]
     },
     "metadata": {
      "needs_background": "light"
     },
     "output_type": "display_data"
    }
   ],
   "source": [
    "plt.figure(figsize=(9, 9))\n",
    "sns.heatmap(conf_matrix, annot=True, fmt='.3f', linewidths=.5, square=True)\n",
    "plt.ylabel('Actual Label (Location)')\n",
    "plt.xlabel('Predicted Label (Location)')\n",
    "title = 'Accuracy Score: {0}'.format(accuracy_score)\n",
    "plt.title(title, size=12)"
   ]
  },
  {
   "cell_type": "code",
   "execution_count": null,
   "metadata": {},
   "outputs": [],
   "source": []
  }
 ],
 "metadata": {
  "kernelspec": {
   "display_name": "Python (ai-env)",
   "language": "python",
   "name": "ai-env"
  },
  "language_info": {
   "codemirror_mode": {
    "name": "ipython",
    "version": 3
   },
   "file_extension": ".py",
   "mimetype": "text/x-python",
   "name": "python",
   "nbconvert_exporter": "python",
   "pygments_lexer": "ipython3",
   "version": "3.7.2"
  }
 },
 "nbformat": 4,
 "nbformat_minor": 2
}
